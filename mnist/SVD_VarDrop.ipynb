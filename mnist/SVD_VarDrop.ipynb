{
 "cells": [
  {
   "cell_type": "code",
   "execution_count": 1,
   "metadata": {},
   "outputs": [],
   "source": [
    "# importing necessary modules\n",
    "\n",
    "import torch\n",
    "import torch.nn as nn\n",
    "import torch.optim as optim\n",
    "import torch.nn.functional as F\n",
    "from torchvision import datasets, transforms\n",
    "\n",
    "\n",
    "import numpy as np"
   ]
  },
  {
   "cell_type": "markdown",
   "metadata": {},
   "source": [
    "#### Downloading the dataset"
   ]
  },
  {
   "cell_type": "code",
   "execution_count": 2,
   "metadata": {},
   "outputs": [],
   "source": [
    "train_loader = torch.utils.data.DataLoader(\n",
    "        datasets.MNIST('../data', train=True, download=True,\n",
    "                       transform=transforms.Compose([\n",
    "                           transforms.ToTensor(),\n",
    "                           transforms.Normalize((0.1307,), (0.3081,))\n",
    "                       ])),\n",
    "        batch_size=64, shuffle=True)\n",
    "\n",
    "test_loader = torch.utils.data.DataLoader(\n",
    "        datasets.MNIST('../data', train=False, transform=transforms.Compose([\n",
    "                           transforms.ToTensor(),\n",
    "                           transforms.Normalize((0.1307,), (0.3081,))\n",
    "                       ])),\n",
    "        batch_size=1000, shuffle=True)"
   ]
  },
  {
   "cell_type": "markdown",
   "metadata": {},
   "source": [
    "#### Basic fully-connected MNIST architecture with helper functions"
   ]
  },
  {
   "cell_type": "code",
   "execution_count": 3,
   "metadata": {},
   "outputs": [],
   "source": [
    "# helper function for model evaluation\n",
    "def eval(model, test_loader):\n",
    "    model.eval()\n",
    "    test_loss = 0\n",
    "    correct = 0\n",
    "    with torch.no_grad():\n",
    "        for data, target in test_loader:\n",
    "            data, target = data, target\n",
    "            output = F.log_softmax(model(data), dim=1)\n",
    "            test_loss += F.nll_loss(output, target, reduction='sum').item()\n",
    "            pred = output.max(1, keepdim=True)[1]\n",
    "            correct += pred.eq(target.view_as(pred)).sum().item()\n",
    "\n",
    "    test_loss /= len(test_loader.dataset)\n",
    "\n",
    "    print('\\nTest set: Average loss: {:.4f}, Accuracy: {}/{} ({:.0f}%)'.format(\n",
    "        test_loss, correct, len(test_loader.dataset),\n",
    "        100. * correct / len(test_loader.dataset)))"
   ]
  },
  {
   "cell_type": "code",
   "execution_count": 4,
   "metadata": {},
   "outputs": [],
   "source": [
    "class MnistNet(nn.Module):\n",
    "    \n",
    "    def __init__(self):\n",
    "        super(MnistNet,self).__init__()\n",
    "        \n",
    "        self.fc1 = nn.Linear(784, 256)\n",
    "        self.fc2 = nn.Linear(256, 10)\n",
    "        \n",
    "    def forward(self,x):\n",
    "        x = x.view(x.size(0), -1)\n",
    "        x = F.relu(self.fc1(x))\n",
    "        x = self.fc2(x)\n",
    "        return x"
   ]
  },
  {
   "cell_type": "code",
   "execution_count": 5,
   "metadata": {},
   "outputs": [
    {
     "name": "stderr",
     "output_type": "stream",
     "text": [
      "100%|██████████| 10/10 [01:41<00:00, 10.23s/it]\n"
     ]
    }
   ],
   "source": [
    "# training baseline model\n",
    "from tqdm import trange\n",
    "\n",
    "net = MnistNet()\n",
    "optimizer = optim.Adam(net.parameters(), lr=1e-3)\n",
    "\n",
    "num_epoch = 10\n",
    "for epoch in trange(num_epoch):\n",
    "    for data, target in train_loader:\n",
    "        optimizer.zero_grad()\n",
    "        data, target = data, target\n",
    "        output = F.log_softmax(net(data), dim=1)\n",
    "        loss = F.nll_loss(output, target)\n",
    "        loss.backward()\n",
    "        optimizer.step()"
   ]
  },
  {
   "cell_type": "code",
   "execution_count": 6,
   "metadata": {},
   "outputs": [
    {
     "name": "stdout",
     "output_type": "stream",
     "text": [
      "\n",
      "Test set: Average loss: 0.0999, Accuracy: 9773/10000 (98%)\n"
     ]
    }
   ],
   "source": [
    "eval(net, test_loader)"
   ]
  },
  {
   "cell_type": "code",
   "execution_count": 7,
   "metadata": {},
   "outputs": [],
   "source": [
    "torch.save(net.state_dict(), 'baseline_mnist.model')"
   ]
  },
  {
   "cell_type": "markdown",
   "metadata": {},
   "source": [
    "## SVD"
   ]
  },
  {
   "cell_type": "markdown",
   "metadata": {},
   "source": [
    "#### SVD, no finetuning"
   ]
  },
  {
   "cell_type": "code",
   "execution_count": 8,
   "metadata": {},
   "outputs": [],
   "source": [
    "net_full_svd = MnistNet()\n",
    "net_full_svd.load_state_dict(torch.load('baseline_mnist.model'))\n",
    "\n",
    "k = 25\n",
    "for i, name in enumerate(['fc1.weight']):\n",
    "    weight = net_full_svd.state_dict()[name].numpy()\n",
    "    u, s, vT = np.linalg.svd(weight, full_matrices=False)\n",
    "    s[k:] = 0\n",
    "    net_full_svd.state_dict()[name].copy_(torch.tensor(u @ np.diag(s) @ vT))"
   ]
  },
  {
   "cell_type": "code",
   "execution_count": 9,
   "metadata": {},
   "outputs": [
    {
     "name": "stdout",
     "output_type": "stream",
     "text": [
      "\n",
      "Test set: Average loss: 0.1509, Accuracy: 9628/10000 (96%)\n",
      "Compression rate: x7.5382\n"
     ]
    }
   ],
   "source": [
    "eval(net_full_svd, test_loader)\n",
    "\n",
    "num_params = 784 * 256 \n",
    "new_num_params = 784 * k + k * k + k * 256\n",
    "print('Compression rate: x{:.4f}'.format(1. * num_params / new_num_params))"
   ]
  },
  {
   "cell_type": "markdown",
   "metadata": {},
   "source": [
    "#### SVD, finetuning last"
   ]
  },
  {
   "cell_type": "code",
   "execution_count": 10,
   "metadata": {},
   "outputs": [],
   "source": [
    "net_svd = MnistNet()\n",
    "net_svd.load_state_dict(torch.load('baseline_mnist.model'))\n",
    "\n",
    "k = 15\n",
    "for i, name in enumerate(['fc1.weight']):\n",
    "    weight = net_svd.state_dict()[name].numpy()\n",
    "    u, s, vT = np.linalg.svd(weight, full_matrices=False)\n",
    "    s[k:] = 0\n",
    "    net_svd.state_dict()[name].copy_(torch.tensor(u @ np.diag(s) @ vT))"
   ]
  },
  {
   "cell_type": "code",
   "execution_count": 11,
   "metadata": {},
   "outputs": [
    {
     "name": "stderr",
     "output_type": "stream",
     "text": [
      "100%|██████████| 5/5 [00:40<00:00,  8.04s/it]\n"
     ]
    }
   ],
   "source": [
    "num_epoch = 5\n",
    "optimizer = optim.Adam(list(net_svd.parameters())[2:], lr=1e-3)\n",
    "\n",
    "for epoch in trange(num_epoch):\n",
    "    for data, target in train_loader:\n",
    "        optimizer.zero_grad()\n",
    "        data, target = data, target\n",
    "        output = F.log_softmax(net_svd(data), dim=1)\n",
    "        loss = F.nll_loss(output, target)\n",
    "        loss.backward()\n",
    "        optimizer.step()"
   ]
  },
  {
   "cell_type": "code",
   "execution_count": 12,
   "metadata": {},
   "outputs": [
    {
     "name": "stdout",
     "output_type": "stream",
     "text": [
      "\n",
      "Test set: Average loss: 0.1244, Accuracy: 9645/10000 (96%)\n",
      "Compression rate: x12.6827\n"
     ]
    }
   ],
   "source": [
    "eval(net_svd, test_loader)\n",
    "\n",
    "num_params = 784 * 256\n",
    "new_num_params = 784 * k + k * k + k * 256\n",
    "print('Compression rate: x{:.4f}'.format(1. * num_params / new_num_params))"
   ]
  },
  {
   "cell_type": "markdown",
   "metadata": {},
   "source": [
    "## Sparse Variational Dropout"
   ]
  },
  {
   "cell_type": "markdown",
   "metadata": {},
   "source": [
    "#### Linear variational layer"
   ]
  },
  {
   "cell_type": "code",
   "execution_count": 13,
   "metadata": {},
   "outputs": [],
   "source": [
    "class varLinear(nn.Module):\n",
    "    \n",
    "    def __init__(self, shape, prune_val):\n",
    "        super(varLinear, self).__init__()\n",
    "\n",
    "        self.weight = nn.Parameter((0.02) ** 0.5 * torch.randn(shape[1], shape[0]))\n",
    "        self.logstd = nn.Parameter(-5.0 * torch.ones(shape[1], shape[0]))\n",
    "        self.bias = nn.Parameter(torch.zeros(1, shape[1]))\n",
    "        \n",
    "        self.prune_val = prune_val\n",
    "        self.training = True\n",
    "        \n",
    "    def forward(self, x):\n",
    "        self.log_alpha = self.logstd * 2.0 - 2.0 * torch.log(1e-16 + torch.abs(self.weight))\n",
    "        self.log_alpha = torch.clamp(self.log_alpha, -10, 10)\n",
    "        \n",
    "        if self.training:\n",
    "            lrt_mean = F.linear(x, self.weight)  + self.bias\n",
    "            lrt_std = torch.sqrt(F.linear(x * x, torch.exp(self.logstd * 2.0) + 1e-8))\n",
    "            eps = torch.randn_like(lrt_std)\n",
    "            return lrt_mean + lrt_std * eps\n",
    "        \n",
    "        pruned = self.weight * (self.log_alpha < self.prune_val).float()\n",
    "        return F.linear(x, pruned) + self.bias\n",
    "        \n",
    "    def kl(self):\n",
    "        # KL divergence approximation (Molchanov et al.)\n",
    "        k1, k2, k3 = torch.Tensor([0.63576]), torch.Tensor([1.8732]), torch.Tensor([1.48695])\n",
    "        kl = k1 * torch.sigmoid(k2 + k3 * self.log_alpha) - 0.5 * torch.log1p(torch.exp(-self.log_alpha))\n",
    "        kl = - kl.sum()\n",
    "        return kl"
   ]
  },
  {
   "cell_type": "markdown",
   "metadata": {},
   "source": [
    "#### MLP with linear variational layer"
   ]
  },
  {
   "cell_type": "code",
   "execution_count": 14,
   "metadata": {},
   "outputs": [],
   "source": [
    "class MnistNetVar(nn.Module):\n",
    "    def __init__(self, prune_val):\n",
    "        super(MnistNetVar, self).__init__()\n",
    "        self.fc1 = varLinear((784, 256), prune_val)\n",
    "        self.fc2 = varLinear((256,  10), prune_val)\n",
    "        self.prune_val = prune_val\n",
    "\n",
    "    def forward(self, x):\n",
    "        x = x.view(x.size(0), -1)\n",
    "        x = F.relu(self.fc1(x))\n",
    "        x = self.fc2(x)\n",
    "        return x"
   ]
  },
  {
   "cell_type": "code",
   "execution_count": 15,
   "metadata": {},
   "outputs": [],
   "source": [
    "varnet = MnistNetVar(prune_val=3.0)"
   ]
  },
  {
   "cell_type": "code",
   "execution_count": 16,
   "metadata": {},
   "outputs": [],
   "source": [
    "optimizer = optim.Adam(varnet.parameters(), lr=1e-3)\n",
    "scheduler = torch.optim.lr_scheduler.MultiStepLR(optimizer, milestones=[50,60,70,80], gamma=0.2)"
   ]
  },
  {
   "cell_type": "code",
   "execution_count": 17,
   "metadata": {},
   "outputs": [],
   "source": [
    "kl_weight = 0.07\n",
    "epochs = 100\n",
    "\n",
    "for epoch in range(1, epochs + 1):\n",
    "    scheduler.step()\n",
    "    varnet.train()\n",
    "    kl_weight = min(kl_weight+0.07, 1) # warming-up kl\n",
    "    \n",
    "    for batch_idx, (input, target) in enumerate(train_loader):\n",
    "        optimizer.zero_grad()\n",
    "        \n",
    "        output = F.log_softmax(varnet(input), dim=1)\n",
    "        loss = F.nll_loss(output, target) * len(train_loader.dataset)\n",
    "        \n",
    "        for module in varnet.children():\n",
    "            loss += module.kl() * kl_weight\n",
    "                \n",
    "        loss.backward()\n",
    "        optimizer.step()"
   ]
  },
  {
   "cell_type": "code",
   "execution_count": 18,
   "metadata": {},
   "outputs": [
    {
     "name": "stdout",
     "output_type": "stream",
     "text": [
      "\n",
      "Test set: Average loss: 0.0584, Accuracy: 9841/10000 (98%)\n",
      "Compression rate: x23.3933\n"
     ]
    }
   ],
   "source": [
    "eval(varnet, test_loader)\n",
    "\n",
    "num_params = 784 * 256 + 256 * 10\n",
    "new_num_params = 0\n",
    "shapes = [784 * 256, 256 * 10]\n",
    "for i, c in enumerate(varnet.children()):\n",
    "    new_num_params += (c.log_alpha.data.numpy() < varnet.prune_val).mean() * shapes[i]\n",
    "\n",
    "print('Compression rate: x{:.4f}'.format(1. * num_params / new_num_params))"
   ]
  }
 ],
 "metadata": {
  "kernelspec": {
   "display_name": "Python 3",
   "language": "python",
   "name": "python3"
  },
  "language_info": {
   "codemirror_mode": {
    "name": "ipython",
    "version": 3
   },
   "file_extension": ".py",
   "mimetype": "text/x-python",
   "name": "python",
   "nbconvert_exporter": "python",
   "pygments_lexer": "ipython3",
   "version": "3.6.5"
  }
 },
 "nbformat": 4,
 "nbformat_minor": 2
}
